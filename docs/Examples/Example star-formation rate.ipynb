{
 "cells": [
  {
   "cell_type": "code",
   "execution_count": 1,
   "id": "5f6fdb0d",
   "metadata": {},
   "outputs": [],
   "source": [
    "from astropalmerio.mc.sampling import sample_asym_norm\n",
    "from astropalmerio.mc.realizations import MC_realization\n",
    "from astropalmerio.mc.MC_var import MC_var\n",
    "from astropalmerio.mc.utils import unbinned_empirical_cdf, binned_CDFs_from_realizations, quantiles\n",
    "from astropalmerio.mc.visualization import plot_CDF_with_bounds, plot_ECDF, add_arrows_for_limits\n",
    "from astropalmerio.galaxies.properties import Av_from_Balmer_decrement\n",
    "\n",
    "import cmasher as cmr\n",
    "\n",
    "import time\n",
    "import logging\n",
    "import numpy as np\n",
    "from scipy.stats import norm\n",
    "import matplotlib.pyplot as plt\n",
    "import sys\n",
    "from pathlib import Path\n",
    "\n",
    "\n",
    "log = logging.getLogger(__name__)\n",
    "logging.basicConfig(stream=sys.stdout, level=logging.INFO,\n",
    "                    format='%(asctime)s %(levelname)s [%(name)s] %(message)s')\n",
    "logging.getLogger('matplotlib').setLevel(logging.WARNING)\n",
    "logging.getLogger('PIL').setLevel(logging.WARNING)\n",
    "\n",
    "ROOT_DIR = Path('/Users/palmerio/Code_projects/astropalmerio/dev/')\n",
    "\n",
    "plt.style.use('paper')\n",
    "plt.style.use('kraken')"
   ]
  },
  {
   "cell_type": "markdown",
   "id": "b12cc4a2",
   "metadata": {},
   "source": [
    "## How to calculate the Star-Formation Rate (SFR) of a galaxy using $H\\alpha$\n",
    "In this example, we will show how to propagate the uncertainties from the measurement of two emission lines ($H\\alpha$ and $H\\beta$) onto a final physical property of a galaxy (SFR).\n",
    "For the purpose of this example, we will be studying a distant galaxy for which we have obtained an optical spectrum.\n",
    "This has allowed us to measure the fluxes of the $H\\alpha$ and $H\\beta$ emission lines, yielding the following result:\n",
    "\n",
    "- $F_{H\\alpha} = (30 \\pm 5) \\times 10^{-17}$ erg/cm2/s\n",
    "- $F_{H\\beta} = (8 \\pm 3) \\times 10^{-17}$ erg/cm2/s\n",
    "\n",
    "The errors here are due solely to measurement uncertainty, which is a random process that we assume to yield gaussian errors (we will neglect systematic errors for the purpose of this example).\n",
    "Let us assume that the fluxes measured are corrected for Balmer absorption, Galactic foreground extinction and that they only require correction for intrinsic attenuation."
   ]
  },
  {
   "cell_type": "markdown",
   "id": "1811ec4d",
   "metadata": {},
   "source": [
    "### Correcting for intrinsic attenuation\n",
    "#### Determining host $A_{\\rm v}$ using the Balmer decrement\n",
    "We can estimate the amount of attenuation in the host galaxy by measuring the Balmer decrement, that is the ratio of the $H\\alpha$ to $H\\beta$ flux:\n",
    "\n",
    "- $R^{\\rm intr}_{H\\alpha/H\\beta} = \\frac{F^{\\rm intr}_{H\\alpha}}{F^{\\rm intr}_{H\\beta}}=2.86$\n",
    "\n",
    "We know that this ratio should be equal to $2.86$ according to the scenario of case B recombination at 10 000 K ([Osterbrock+06](https://ui.adsabs.harvard.edu/abs/2006agna.book.....O/abstract)).\n",
    "We can use our _observed_ ratio to infer how much attenuation there is:\n",
    "\n",
    "- $R^{\\rm obs}_{H\\alpha/H\\beta} =\\frac{F^{\\rm obs}_{H\\alpha}}{F^{\\rm obs}_{H\\beta}} = \\frac{F^{\\rm intr}_{H\\alpha} \\times 10^{-0.4 A_{\\rm v}\\xi(\\lambda_{H\\alpha})}}{F^{\\rm intr}_{H\\beta}\\times 10^{-0.4 A_{\\rm v}\\xi(\\lambda_{H\\beta})}} = R^{\\rm intr}_{H\\alpha/H\\beta} \\times 10^{-0.4 A_{\\rm v}(\\xi(\\lambda_{H\\alpha})-\\xi(\\lambda_{H\\beta}))} = 2.86 \\times 10^{-0.4 A_{\\rm v}(\\xi(\\lambda_{H\\alpha})-\\xi(\\lambda_{H\\beta}))}$\n",
    "\n",
    "Assuming a certain form for the extinction curve $\\xi(\\lambda)$ from [Pei+99](https://ui.adsabs.harvard.edu/abs/1992ApJ...395..130P/abstract), we can rearrange the equation to get the visible band attenuation $A_{\\rm v}$:\n",
    "\n",
    "- $A_{\\rm v} = -2.5 \\frac{\\log(R^{\\rm obs}_{H\\alpha/H\\beta}/2.86)}{\\xi(\\lambda_{H\\alpha})-\\xi(\\lambda_{H\\beta})}$"
   ]
  },
  {
   "cell_type": "code",
   "execution_count": 2,
   "id": "1aca0dfd",
   "metadata": {},
   "outputs": [
    {
     "name": "stdout",
     "output_type": "stream",
     "text": [
      "2023-03-10 11:13:02,081 DEBUG [astropalmerio.galaxies.properties] Estimating Av from:\n",
      "Observed Ha/Hb = 3.75\n",
      "Theoretical Ha/Hb = 2.847\n",
      "Av = [0.84972966]\n"
     ]
    },
    {
     "data": {
      "text/plain": [
       "{'Ha/Hb': array([0.84972966])}"
      ]
     },
     "execution_count": 2,
     "metadata": {},
     "output_type": "execute_result"
    }
   ],
   "source": [
    "F_Ha = 30\n",
    "F_Ha_unc = 5\n",
    "F_Hb = 8\n",
    "F_Hb_unc = 3\n",
    "\n",
    "F_Ha_MC = MC_realization(F_Ha, F_Ha_unc)\n",
    "F_Hb_MC = MC_realization(F_Hb, F_Hb_unc, val_min=0)\n",
    "\n",
    "ratio_obs_MC = F_Ha_MC/F_Hb_MC\n",
    "logging.getLogger('astropalmerio.galaxies.extinction').setLevel(logging.DEBUG)\n",
    "logging.getLogger('astropalmerio.galaxies.properties').setLevel(logging.DEBUG)\n",
    "\n",
    "Av_MC = Av_from_Balmer_decrement(F_Ha=F_Ha,\n",
    "                                 F_Hb=F_Hb)\n",
    "Av_MC"
   ]
  },
  {
   "cell_type": "code",
   "execution_count": 3,
   "id": "5cd6a84b",
   "metadata": {},
   "outputs": [
    {
     "data": {
      "text/plain": [
       "0.3"
      ]
     },
     "execution_count": 3,
     "metadata": {},
     "output_type": "execute_result"
    }
   ],
   "source": [
    "import astropalmerio.galaxies.extinction as ext\n",
    "ext.Pei92_SMC(6500), ext.Pei92_SMC(4800)\n",
    "np.mean([0.3])"
   ]
  },
  {
   "cell_type": "markdown",
   "id": "053004a1",
   "metadata": {},
   "source": [
    "#### Correcting the observed $H\\alpha$ flux\n",
    "And finally the corrected (intrinsic) $H\\alpha$ flux:\n",
    "\n",
    "- $F^{\\rm intr}_{H\\alpha} = F^{\\rm obs}_{H\\alpha} \\times 10^{+0.4 A_{\\rm v} \\xi(\\lambda_{H\\alpha})}$"
   ]
  },
  {
   "cell_type": "markdown",
   "id": "43729b82",
   "metadata": {},
   "source": [
    "We can now use the intrinsic $F_{H\\alpha}$ to estimate the SFR with the relation of [Kennicutt+98](https://ui.adsabs.harvard.edu/abs/1998ARA%26A..36..189K/abstract):\n",
    "\n",
    "- ${\\rm SFR} = 7.9\\times10^{-42}\\, L_{H\\alpha}~[\\rm M_{\\odot}\\,yr^{-1}]$"
   ]
  },
  {
   "cell_type": "markdown",
   "id": "52fad1f0",
   "metadata": {},
   "source": [
    "SFR = star_formation_rate()"
   ]
  },
  {
   "cell_type": "code",
   "execution_count": null,
   "id": "85861d7b",
   "metadata": {},
   "outputs": [],
   "source": []
  }
 ],
 "metadata": {
  "kernelspec": {
   "display_name": "Python 3 (ipykernel)",
   "language": "python",
   "name": "python3"
  },
  "language_info": {
   "codemirror_mode": {
    "name": "ipython",
    "version": 3
   },
   "file_extension": ".py",
   "mimetype": "text/x-python",
   "name": "python",
   "nbconvert_exporter": "python",
   "pygments_lexer": "ipython3",
   "version": "3.9.16"
  }
 },
 "nbformat": 4,
 "nbformat_minor": 5
}
